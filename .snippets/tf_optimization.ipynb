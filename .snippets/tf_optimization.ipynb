{
 "cells": [
  {
   "attachments": {},
   "cell_type": "markdown",
   "metadata": {},
   "source": [
    "\"\"\"\n",
    "This is a sample script to demonstrate how to perform optimization in tensorflow using autograd.\n",
    "lets solve the following problem:\n",
    "\n",
    "    ```\n",
    "    consider the following polynomial relation:\n",
    "    a^2 + b^2 - 6a + 2b + 9 = 0\n",
    "    we want to find a solution for the above equation!\n",
    "\n",
    "    we can write it as minimization problem:\n",
    "    minimize the f(a, b)^2 wrt a and b:\n",
    "\n",
    "        where y = f(a, b) = a^2 + b^2 - 6a + 2b + 9\n",
    "    ```\n",
    "\"\"\""
   ]
  },
  {
   "cell_type": "code",
   "execution_count": 2,
   "metadata": {},
   "outputs": [
    {
     "name": "stderr",
     "output_type": "stream",
     "text": [
      " tf.__version__: 2.11.1\n"
     ]
    }
   ],
   "source": [
    "import tensorflow as tf\n",
    "import logging\n",
    "\n",
    "logging.basicConfig(level=logging.INFO, format=\" %(message)s\")\n",
    "logger = logging.getLogger(\"tf_optimization\")\n",
    "logger.setLevel(logging.INFO)\n",
    "\n",
    "logger.info(f'tf.__version__: {tf.__version__}')\n"
   ]
  },
  {
   "cell_type": "code",
   "execution_count": null,
   "metadata": {},
   "outputs": [],
   "source": []
  },
  {
   "cell_type": "markdown",
   "metadata": {},
   "source": []
  }
 ],
 "metadata": {
  "kernelspec": {
   "display_name": "nervox",
   "language": "python",
   "name": "python3"
  },
  "language_info": {
   "codemirror_mode": {
    "name": "ipython",
    "version": 3
   },
   "file_extension": ".py",
   "mimetype": "text/x-python",
   "name": "python",
   "nbconvert_exporter": "python",
   "pygments_lexer": "ipython3",
   "version": "3.10.10"
  },
  "orig_nbformat": 4
 },
 "nbformat": 4,
 "nbformat_minor": 2
}
